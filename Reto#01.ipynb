{
 "cells": [
  {
   "cell_type": "markdown",
   "id": "6cbc226a",
   "metadata": {},
   "source": [
    "\n",
    "crea una funcion que encuentre todas las combinaciones de los numeros\n",
    "de una lista que suma el valor objetivo\n",
    "\n",
    "-la funcion recibira una lista de numeros enteros positivos y un \n",
    "valor de objetivo\n",
    "\n",
    "-para obtener las combinaciones solo se puede usar una vez cada \n",
    "elemento de la lista (pero pueden existir elementos repetidos en ella)\n",
    "\n",
    "-ejemplo lista = [1,5,3,2], objetivo = 6\n",
    "soluciones [1,5] y [1,3,2] (ambas combinaciones suman 6)\n",
    "\n",
    "-(si no existen combinaciones, retornar una lista vacia)\n",
    "\n",
    "\n"
   ]
  },
  {
   "cell_type": "code",
   "execution_count": 92,
   "id": "e874108e",
   "metadata": {},
   "outputs": [],
   "source": [
    "def solution(numbers=[], goal=0):\n",
    "    numbers = [n for n in numbers if n < goal]\n",
    "    #numbers.sort()\n",
    "    combinations = []\n",
    "    #print(numbers)\n",
    "    \n",
    "    for n in numbers:\n",
    "        a = goal - n\n",
    "        if a in numbers and a != n:\n",
    "            combinations.append([n, a])\n",
    "        aux_arr = [n for n in numbers if n < a]\n",
    "        if sum(aux_arr) == goal:\n",
    "            combinations.append(aux_arr)\n",
    "    \n",
    "    \n",
    "    return numbers if len(combinations) == 0 else combinations[0:]"
   ]
  },
  {
   "cell_type": "code",
   "execution_count": 93,
   "id": "4a4234e0",
   "metadata": {},
   "outputs": [
    {
     "name": "stdout",
     "output_type": "stream",
     "text": [
      "[1, 5, 3, 2, 8, 7]\n"
     ]
    }
   ],
   "source": [
    "print(solution([1,5,3,2,8,20,34,7], 16))"
   ]
  },
  {
   "cell_type": "code",
   "execution_count": 83,
   "id": "b743da4c",
   "metadata": {},
   "outputs": [],
   "source": [
    "def find_sums(numbers=list, target=int)->list:\n",
    "    \n",
    "    def find_sum(start:int,target=int, combination= list):\n",
    "        \n",
    "        #encontrar solucion\n",
    "        if target == 0:\n",
    "            result.append(combination[:])\n",
    "            return\n",
    "        \n",
    "        #no sencontrar solucion\n",
    "        if target < 0 or start == len(numbers):\n",
    "            return\n",
    "        \n",
    "        #busqueda\n",
    "        for index in range(start,len(numbers)):\n",
    "            if numbers[index] == numbers[index - 1]:\n",
    "                continue\n",
    "                \n",
    "            combination.append(numbers[index])\n",
    "            find_sum(index + 1, target - numbers[index], combination)\n",
    "            combination.pop()\n",
    "            \n",
    "    numbers.sort()\n",
    "    result = []\n",
    "    find_sum(0, target, [])\n",
    "    return result"
   ]
  },
  {
   "cell_type": "code",
   "execution_count": 91,
   "id": "a618a099",
   "metadata": {},
   "outputs": [
    {
     "data": {
      "text/plain": [
       "[[1, 2, 5, 8], [1, 3, 5, 7], [1, 7, 8], [3, 5, 8]]"
      ]
     },
     "execution_count": 91,
     "metadata": {},
     "output_type": "execute_result"
    }
   ],
   "source": [
    "find_sums([1,5,3,2,8,20,34,7], 16)"
   ]
  },
  {
   "cell_type": "code",
   "execution_count": null,
   "id": "eec01368",
   "metadata": {},
   "outputs": [],
   "source": []
  }
 ],
 "metadata": {
  "kernelspec": {
   "display_name": "Python 3 (ipykernel)",
   "language": "python",
   "name": "python3"
  },
  "language_info": {
   "codemirror_mode": {
    "name": "ipython",
    "version": 3
   },
   "file_extension": ".py",
   "mimetype": "text/x-python",
   "name": "python",
   "nbconvert_exporter": "python",
   "pygments_lexer": "ipython3",
   "version": "3.9.12"
  }
 },
 "nbformat": 4,
 "nbformat_minor": 5
}
